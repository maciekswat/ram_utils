{
 "cells": [
  {
   "cell_type": "markdown",
   "metadata": {},
   "source": [
    "# Getting Started: RAM Report Data\n",
    "\n",
    "In the process of generating reports for both record-only and stimulation sessions, the RAM reporting pipeline produces a number of summary data files. These files contain all of the information requried to reproduce the plots, summary statistics, and any analyses contained in the reports. However, another use for these summary files is for conducting alternative post-hoc analyses using the RAM data. In particular, some common use cases for this data are:\n",
    "\n",
    "1. Post-hoc assessment of classifier performance and/or re-assessment using a different classifier\n",
    "2. Behavioral analyses comparing cohorts of subjects or comparing stim/no-stim experimental conditions\n",
    "3. High-level summary information (either behavioral or electrophysiological) across a broad group of subjects\n",
    "\n",
    "**Data Types**\n",
    "\n",
    "Each of the summary files saved as part of generating a report has a corresponding python class with various properties and helper methods defined. These classes are documented in the [Seraializeable Data Structures](https://pennmem.github.io/ram_utils/html/data.html) section of the ramutils documentation.\n",
    "\n",
    "1. Session Summary\n",
    "2. Math Summary\n",
    "3. Classifier Summary\n",
    "4. Target Selection Table \n",
    "5. Retrained Classifier\n",
    "\n",
    "\n",
    "**Common Patterns**\n",
    "\n",
    "The remainder of this guide will go through some common usage patterns for interacting with the saved data including:\n",
    "\n",
    "1. Finding data\n",
    "2. Loading multiple files of a single type\n",
    "3. Extracting metadata from a file path\n",
    "4. Building an item-level dataset\n",
    "5. Reloading a trained classifier\n",
    "6. Pandas magic\n",
    "7. Combining across summary file types"
   ]
  },
  {
   "cell_type": "markdown",
   "metadata": {},
   "source": [
    "## Finding Data"
   ]
  },
  {
   "cell_type": "code",
   "execution_count": 1,
   "metadata": {},
   "outputs": [
    {
     "name": "stdout",
     "output_type": "stream",
     "text": [
      "Could not import MorletWaveletFilterCppLegacy (single-core C++ version of MorletWaveletFilter): cannot import name 'MorletWaveletTransform'\n",
      "You can still use MorletWaveletFilter\n"
     ]
    }
   ],
   "source": [
    "from ramutils.tasks.misc import load_existing_results"
   ]
  },
  {
   "cell_type": "code",
   "execution_count": 2,
   "metadata": {},
   "outputs": [],
   "source": [
    "rhino_root = '/Volumes/RHINO/'\n",
    "report_db_location = \"/Volumes/RHINO/data10/RAM/report_database/\""
   ]
  },
  {
   "cell_type": "markdown",
   "metadata": {},
   "source": [
    "For loading all saved data associated with a single subject/experiment combination (either a single session or multiple sessions), you can use the load_existing_results helper function. Internally, this function is used to load data for producing aggregate reports. A dictionary is returned whose keys indicate the type of underlying data. The values are a list of the summary objects, one per session. For this example, we are loading a single session."
   ]
  },
  {
   "cell_type": "code",
   "execution_count": 3,
   "metadata": {},
   "outputs": [
    {
     "name": "stderr",
     "output_type": "stream",
     "text": [
      "[I 2018-05-16 15:11:47,221 _wrapper.py:21] calling load_existing_results\n"
     ]
    },
    {
     "data": {
      "text/plain": [
       "['target_selection_table',\n",
       " 'classifier_evaluation_results',\n",
       " 'session_summaries',\n",
       " 'math_summaries',\n",
       " 'hmm_results']"
      ]
     },
     "execution_count": 3,
     "metadata": {},
     "output_type": "execute_result"
    }
   ],
   "source": [
    "# .compute() is required because load_existing_results is actual a task, which\n",
    "# is lazily evaluated by default\n",
    "results_dict = load_existing_results(subject='R1389J', experiment='catFR5', \n",
    "                                     sessions=[1], stim_report=True, \n",
    "                                     db_loc=report_db_location, rootdir=rhino_root).compute()\n",
    "list(results_dict.keys())"
   ]
  },
  {
   "cell_type": "code",
   "execution_count": 4,
   "metadata": {},
   "outputs": [
    {
     "name": "stdout",
     "output_type": "stream",
     "text": [
      "Data is saved as a <class 'ramutils.reports.summary.ClassifierSummary'> object.\n",
      "AUC for this session: 0.6512345679012346\n"
     ]
    }
   ],
   "source": [
    "classifier_data = results_dict['classifier_evaluation_results'][0]\n",
    "print(\"Data is saved as a {} object.\\nAUC for this session: {}\".format(type(classifier_data), classifier_data.auc))"
   ]
  },
  {
   "cell_type": "code",
   "execution_count": 5,
   "metadata": {},
   "outputs": [
    {
     "name": "stdout",
     "output_type": "stream",
     "text": [
      "Data is saved as a <class 'ramutils.reports.summary.FRStimSessionSummary'> object.\n",
      "Session Completed On: 2018-02-28 16:47:02.190000+00:00\n"
     ]
    }
   ],
   "source": [
    "session_data = results_dict['session_summaries'][0]\n",
    "print(\"Data is saved as a {} object.\\nSession Completed On: {}\".format(type(session_data), \n",
    "                                                                       session_data.session_datetime))"
   ]
  },
  {
   "cell_type": "code",
   "execution_count": 6,
   "metadata": {},
   "outputs": [
    {
     "name": "stdout",
     "output_type": "stream",
     "text": [
      "Data is saved as a <class 'ramutils.reports.summary.MathSummary'> object.\n",
      "Subject answer 79.76190476190476% math problems correctly\n"
     ]
    }
   ],
   "source": [
    "math_data = results_dict['math_summaries'][0]\n",
    "print(\"Data is saved as a {} object.\\nSubject answer {}% math problems correctly\".format(type(math_data),\n",
    "                                                                                          math_data.percent_correct))"
   ]
  },
  {
   "cell_type": "markdown",
   "metadata": {},
   "source": [
    "## Loading Multiple Files of a Single Type"
   ]
  },
  {
   "cell_type": "code",
   "execution_count": 7,
   "metadata": {},
   "outputs": [
    {
     "name": "stdout",
     "output_type": "stream",
     "text": [
      "Found 58 FR5 or catFR5 session summaries\n"
     ]
    }
   ],
   "source": [
    "import os\n",
    "import glob\n",
    "\n",
    "from ramutils.reports.summary import FRStimSessionSummary\n",
    "\n",
    "fr5_session_summary_locations = glob.glob(os.path.join(report_db_location, '*FR5*session_summary*'))\n",
    "print(\"Found {} FR5 or catFR5 session summaries\".format(len(fr5_session_summary_locations)))"
   ]
  },
  {
   "cell_type": "code",
   "execution_count": 8,
   "metadata": {},
   "outputs": [],
   "source": [
    "session_summaries = []\n",
    "for summary_loc in fr5_session_summary_locations:\n",
    "    summary = FRStimSessionSummary.from_hdf(summary_loc)\n",
    "    session_summaries.append(summary)"
   ]
  },
  {
   "cell_type": "markdown",
   "metadata": {},
   "source": [
    "## Extracting Metadata from the File Path\n",
    "\n",
    "As noted in the documentation, underlying files are stored with a specific naming convention so that they can be easily differentiated despite residing in the same directory. ramutils has a utility function for extracting this metadata from the file path, which can be handy when combining multiple files of a single type or across types"
   ]
  },
  {
   "cell_type": "code",
   "execution_count": 9,
   "metadata": {},
   "outputs": [
    {
     "data": {
      "text/plain": [
       "{'subject': 'R1275D',\n",
       " 'experiment': 'FR5',\n",
       " 'montage': 0,\n",
       " 'sessions': [1],\n",
       " 'file_name': 'session_summary',\n",
       " 'file_type': 'h5'}"
      ]
     },
     "execution_count": 9,
     "metadata": {},
     "output_type": "execute_result"
    }
   ],
   "source": [
    "from ramutils.utils import extract_report_info_from_path\n",
    "\n",
    "metadata = extract_report_info_from_path(fr5_session_summary_locations[0])\n",
    "metadata"
   ]
  },
  {
   "cell_type": "markdown",
   "metadata": {},
   "source": [
    "## Building an Item-Level Dataset\n",
    "One of the properties of the session summary objects is a dataframe containing all of the encoding events from the session that has been enriched with stimulation parameter information and other metadata in the case of a stimulation session. One common use case is to perform some sort of behavioral analysis that requires item-level information. Oftentimes, this analysis is done across subjects and experiments. Luckily, there is a helper method to make it rather trivial to combine this item-level information and return a Pandas Dataframe"
   ]
  },
  {
   "cell_type": "code",
   "execution_count": 10,
   "metadata": {},
   "outputs": [
    {
     "data": {
      "text/html": [
       "<div>\n",
       "<style>\n",
       "    .dataframe thead tr:only-child th {\n",
       "        text-align: right;\n",
       "    }\n",
       "\n",
       "    .dataframe thead th {\n",
       "        text-align: left;\n",
       "    }\n",
       "\n",
       "    .dataframe tbody tr th {\n",
       "        vertical-align: top;\n",
       "    }\n",
       "</style>\n",
       "<table border=\"1\" class=\"dataframe\">\n",
       "  <thead>\n",
       "    <tr style=\"text-align: right;\">\n",
       "      <th></th>\n",
       "      <th>serialpos</th>\n",
       "      <th>session</th>\n",
       "      <th>subject</th>\n",
       "      <th>experiment</th>\n",
       "      <th>mstime</th>\n",
       "      <th>type</th>\n",
       "      <th>recalled</th>\n",
       "      <th>list</th>\n",
       "      <th>is_stim_list</th>\n",
       "      <th>phase</th>\n",
       "      <th>...</th>\n",
       "      <th>is_stim_item</th>\n",
       "      <th>is_post_stim_item</th>\n",
       "      <th>thresh</th>\n",
       "      <th>classifier_output</th>\n",
       "      <th>location</th>\n",
       "      <th>amplitude</th>\n",
       "      <th>pulse_freq</th>\n",
       "      <th>stim_duration</th>\n",
       "      <th>stimAnodeTag</th>\n",
       "      <th>stimCathodeTag</th>\n",
       "    </tr>\n",
       "  </thead>\n",
       "  <tbody>\n",
       "    <tr>\n",
       "      <th>0</th>\n",
       "      <td>1</td>\n",
       "      <td>1</td>\n",
       "      <td>R1275D</td>\n",
       "      <td>FR5</td>\n",
       "      <td>1497112517408</td>\n",
       "      <td>WORD</td>\n",
       "      <td>0</td>\n",
       "      <td>1</td>\n",
       "      <td>0</td>\n",
       "      <td>BASELINE</td>\n",
       "      <td>...</td>\n",
       "      <td>0</td>\n",
       "      <td>0</td>\n",
       "      <td>0.5</td>\n",
       "      <td>0.565596</td>\n",
       "      <td>nan</td>\n",
       "      <td>nan</td>\n",
       "      <td>nan</td>\n",
       "      <td>nan</td>\n",
       "      <td>nan</td>\n",
       "      <td>nan</td>\n",
       "    </tr>\n",
       "    <tr>\n",
       "      <th>1</th>\n",
       "      <td>2</td>\n",
       "      <td>1</td>\n",
       "      <td>R1275D</td>\n",
       "      <td>FR5</td>\n",
       "      <td>1497112520131</td>\n",
       "      <td>WORD</td>\n",
       "      <td>0</td>\n",
       "      <td>1</td>\n",
       "      <td>0</td>\n",
       "      <td>BASELINE</td>\n",
       "      <td>...</td>\n",
       "      <td>0</td>\n",
       "      <td>0</td>\n",
       "      <td>0.5</td>\n",
       "      <td>0.647678</td>\n",
       "      <td>nan</td>\n",
       "      <td>nan</td>\n",
       "      <td>nan</td>\n",
       "      <td>nan</td>\n",
       "      <td>nan</td>\n",
       "      <td>nan</td>\n",
       "    </tr>\n",
       "    <tr>\n",
       "      <th>2</th>\n",
       "      <td>3</td>\n",
       "      <td>1</td>\n",
       "      <td>R1275D</td>\n",
       "      <td>FR5</td>\n",
       "      <td>1497112522816</td>\n",
       "      <td>WORD</td>\n",
       "      <td>0</td>\n",
       "      <td>1</td>\n",
       "      <td>0</td>\n",
       "      <td>BASELINE</td>\n",
       "      <td>...</td>\n",
       "      <td>0</td>\n",
       "      <td>0</td>\n",
       "      <td>0.5</td>\n",
       "      <td>0.358846</td>\n",
       "      <td>nan</td>\n",
       "      <td>nan</td>\n",
       "      <td>nan</td>\n",
       "      <td>nan</td>\n",
       "      <td>nan</td>\n",
       "      <td>nan</td>\n",
       "    </tr>\n",
       "    <tr>\n",
       "      <th>3</th>\n",
       "      <td>4</td>\n",
       "      <td>1</td>\n",
       "      <td>R1275D</td>\n",
       "      <td>FR5</td>\n",
       "      <td>1497112525335</td>\n",
       "      <td>WORD</td>\n",
       "      <td>0</td>\n",
       "      <td>1</td>\n",
       "      <td>0</td>\n",
       "      <td>BASELINE</td>\n",
       "      <td>...</td>\n",
       "      <td>0</td>\n",
       "      <td>0</td>\n",
       "      <td>0.5</td>\n",
       "      <td>0.459033</td>\n",
       "      <td>nan</td>\n",
       "      <td>nan</td>\n",
       "      <td>nan</td>\n",
       "      <td>nan</td>\n",
       "      <td>nan</td>\n",
       "      <td>nan</td>\n",
       "    </tr>\n",
       "    <tr>\n",
       "      <th>4</th>\n",
       "      <td>5</td>\n",
       "      <td>1</td>\n",
       "      <td>R1275D</td>\n",
       "      <td>FR5</td>\n",
       "      <td>1497112527751</td>\n",
       "      <td>WORD</td>\n",
       "      <td>0</td>\n",
       "      <td>1</td>\n",
       "      <td>0</td>\n",
       "      <td>BASELINE</td>\n",
       "      <td>...</td>\n",
       "      <td>0</td>\n",
       "      <td>0</td>\n",
       "      <td>0.5</td>\n",
       "      <td>0.446794</td>\n",
       "      <td>nan</td>\n",
       "      <td>nan</td>\n",
       "      <td>nan</td>\n",
       "      <td>nan</td>\n",
       "      <td>nan</td>\n",
       "      <td>nan</td>\n",
       "    </tr>\n",
       "  </tbody>\n",
       "</table>\n",
       "<p>5 rows × 21 columns</p>\n",
       "</div>"
      ],
      "text/plain": [
       "   serialpos  session subject experiment         mstime  type  recalled  list  \\\n",
       "0          1        1  R1275D        FR5  1497112517408  WORD         0     1   \n",
       "1          2        1  R1275D        FR5  1497112520131  WORD         0     1   \n",
       "2          3        1  R1275D        FR5  1497112522816  WORD         0     1   \n",
       "3          4        1  R1275D        FR5  1497112525335  WORD         0     1   \n",
       "4          5        1  R1275D        FR5  1497112527751  WORD         0     1   \n",
       "\n",
       "   is_stim_list     phase      ...       is_stim_item  is_post_stim_item  \\\n",
       "0             0  BASELINE      ...                  0                  0   \n",
       "1             0  BASELINE      ...                  0                  0   \n",
       "2             0  BASELINE      ...                  0                  0   \n",
       "3             0  BASELINE      ...                  0                  0   \n",
       "4             0  BASELINE      ...                  0                  0   \n",
       "\n",
       "   thresh  classifier_output  location amplitude pulse_freq stim_duration  \\\n",
       "0     0.5           0.565596       nan       nan        nan           nan   \n",
       "1     0.5           0.647678       nan       nan        nan           nan   \n",
       "2     0.5           0.358846       nan       nan        nan           nan   \n",
       "3     0.5           0.459033       nan       nan        nan           nan   \n",
       "4     0.5           0.446794       nan       nan        nan           nan   \n",
       "\n",
       "  stimAnodeTag stimCathodeTag  \n",
       "0          nan            nan  \n",
       "1          nan            nan  \n",
       "2          nan            nan  \n",
       "3          nan            nan  \n",
       "4          nan            nan  \n",
       "\n",
       "[5 rows x 21 columns]"
      ]
     },
     "execution_count": 10,
     "metadata": {},
     "output_type": "execute_result"
    }
   ],
   "source": [
    "combined_item_df = FRStimSessionSummary.combine_sessions(session_summaries)\n",
    "combined_item_df.head()"
   ]
  },
  {
   "cell_type": "markdown",
   "metadata": {},
   "source": [
    "We previously found 58 sessions worth of data. At 300 encoding events per session, we should have around 17,400 rows in our dataset, unless some sessions were incomplete"
   ]
  },
  {
   "cell_type": "code",
   "execution_count": 11,
   "metadata": {},
   "outputs": [
    {
     "data": {
      "text/plain": [
       "16548"
      ]
     },
     "execution_count": 11,
     "metadata": {},
     "output_type": "execute_result"
    }
   ],
   "source": [
    "len(combined_item_df)"
   ]
  },
  {
   "cell_type": "markdown",
   "metadata": {},
   "source": [
    "## Reloading a Trained Classifier\n",
    "\n",
    "Another useful set of information is the classifier itself, rather than just the classifier evaluation results. There are two ways to get this data. The best way is to load the classifier that was actually used during the session. Ramutils has a helpfer function to do this loading for you. The benefit of using this classifier is that it should allow you to exactly match what occured during the session, since this is the classifier that Ramulator was using. If channels were excluded because of some artifact detection routine(s), there will be no need to deal with this post-hoc. Unfortunately, having a consistent storage format is a relatively recent development, so for older subjects it will not be possible to load the actual classifier used. Instead, you can use the classifier trained with the default parameters (frequencies, timings, etc.) that is saved to the report database directory. \n",
    "\n",
    "You can find more information about the storage format of the classifier by looking at the [documentation](https://pennmem.github.io/classiflib/html/index.html)"
   ]
  },
  {
   "cell_type": "code",
   "execution_count": 12,
   "metadata": {},
   "outputs": [
    {
     "data": {
      "text/plain": [
       "(997, 872)"
      ]
     },
     "execution_count": 12,
     "metadata": {},
     "output_type": "execute_result"
    }
   ],
   "source": [
    "# Reloading the used classifier\n",
    "from ramutils.classifier.utils import reload_classifier\n",
    "\n",
    "classifier_container = reload_classifier('R1387E', 'catFR5', 1, mount_point='/Volumes/RHINO/')\n",
    "classifier_container.features.shape # n_events x n_features power matrix"
   ]
  },
  {
   "cell_type": "code",
   "execution_count": 13,
   "metadata": {},
   "outputs": [
    {
     "data": {
      "text/plain": [
       "(997, 968)"
      ]
     },
     "execution_count": 13,
     "metadata": {},
     "output_type": "execute_result"
    }
   ],
   "source": [
    "# Loading the classifier from the reports database\n",
    "from classiflib.container import ClassifierContainer\n",
    "\n",
    "retrained_classifier_loc = glob.glob(os.path.join(report_db_location, 'R1387E_catFR5_all_retrained_classifier*'))[0]\n",
    "classifier_container = ClassifierContainer.load(retrained_classifier_loc)\n",
    "classifier_container.features.shape"
   ]
  },
  {
   "cell_type": "markdown",
   "metadata": {},
   "source": [
    "In this case, we can see that the classifier used during the session differs from the one that does not take into account artifactual channels. In fact, we can deduce that 12 channels were exclude due to artifact detection (12 * 8 = 968 - 972). \n",
    "\n",
    "Once a classifier has been loaded, the main use cases are to make out of sample predictions and check on the AUC from the training session."
   ]
  },
  {
   "cell_type": "code",
   "execution_count": 14,
   "metadata": {},
   "outputs": [
    {
     "name": "stdout",
     "output_type": "stream",
     "text": [
      "Training AUC: 0.61\n"
     ]
    },
    {
     "name": "stderr",
     "output_type": "stream",
     "text": [
      "/Users/zduey/miniconda3/envs/ramutils_dev/envs/ramutils_test/lib/python3.6/site-packages/matplotlib/axes/_axes.py:6462: UserWarning: The 'normed' kwarg is deprecated, and has been replaced by the 'density' kwarg.\n",
      "  warnings.warn(\"The 'normed' kwarg is deprecated, and has been \"\n"
     ]
    },
    {
     "data": {
      "text/plain": [
       "<matplotlib.axes._subplots.AxesSubplot at 0x1c76ae7400>"
      ]
     },
     "execution_count": 14,
     "metadata": {},
     "output_type": "execute_result"
    },
    {
     "data": {
      "image/png": "[encoded data removed]",
      "text/plain": [
       "<Figure size 432x288 with 1 Axes>"
      ]
     },
     "metadata": {},
     "output_type": "display_data"
    }
   ],
   "source": [
    "import numpy as np\n",
    "import seaborn as sns\n",
    "\n",
    "%matplotlib inline\n",
    "\n",
    "classifier = classifier_container.classifier\n",
    "\n",
    "print(\"Training AUC: {:.2f}\".format(classifier_container.classifier_info['auc']))\n",
    "\n",
    "# Create 100 random new events and calculated predicted probabilities\n",
    "out_of_sample_powers = np.random.normal(size=(100, classifier_container.features.shape[1]))\n",
    "predicted_probs = classifier.predict_proba(out_of_sample_powers)[:, 1]\n",
    "sns.distplot(predicted_probs)"
   ]
  },
  {
   "cell_type": "markdown",
   "metadata": {},
   "source": [
    "## Pandas Magic\n",
    "\n",
    "One pattern that has come in handy for almost every cross-subject analysis, is the ability to embed these summary objects in a pandas dataframe. Bear with me as this sounds strange, but what it allows you to do is to write your own functions that operate on a summary object and return some information. These functions can then make use of the pandas API to quickly apply the transformation to all session summaries in a series. In this way, you can easily extend the built-in set of methods that operate on these summary objects. Let's go through a quick example.\n",
    "\n",
    "First, we will define some custom function that takes a summary object as its input. In this case, we have some behavioral measure of recall performance that we want to calculate that is not part of the standard set of methods."
   ]
  },
  {
   "cell_type": "code",
   "execution_count": 15,
   "metadata": {},
   "outputs": [],
   "source": [
    "def normalized_item_delta_recall(summary):\n",
    "    \"\"\" Calculate normalized delta recall at the item level \n",
    "    \n",
    "    Parameters\n",
    "    ----------\n",
    "    summary: ramutils.reports.summary.FRStimSessionSummary\n",
    "        Helper class containing events, powers, montage, and other information needed to analyze a single\n",
    "        stimulation session\n",
    "    \n",
    "    Returns\n",
    "    -------\n",
    "    normalized_delta_recall: float\n",
    "        Item-level measure of the change in recall performance due to stimulation. Calculated by\n",
    "        comparing the recall rates for stimulated items with items for non-stim lists that would\n",
    "        have been stimulated\n",
    "    \n",
    "    \"\"\"\n",
    "    if type(summary) != list:\n",
    "        summary = [summary]\n",
    "    df = FRStimSessionSummary.combine_sessions(summary)\n",
    "    nonstim_low_bio_recall = df[(df.classifier_output < df.thresh) &\n",
    "                                (df.is_stim_list == False)].recalled.mean()\n",
    "    stim_recall = df[df.is_stim_item == True].recalled.mean()\n",
    "    overall_recall = df.recalled.mean()\n",
    "    normalized_delta_recall = 100 * ((stim_recall - nonstim_low_bio_recall) / overall_recall)\n",
    "    return normalized_delta_recall"
   ]
  },
  {
   "cell_type": "markdown",
   "metadata": {},
   "source": [
    "Next, we will calculate normalized item-level delta recall using two different methods. This first method uses list comprehension, and the second uses the session summary objects embedded in a pandas dataframe."
   ]
  },
  {
   "cell_type": "code",
   "execution_count": 16,
   "metadata": {},
   "outputs": [],
   "source": [
    "normalized_delta_recall = [normalized_item_delta_recall(summary) for summary in session_summaries]"
   ]
  },
  {
   "cell_type": "markdown",
   "metadata": {},
   "source": [
    "Ok, so great. Now we have this list of values that we wanted to extract. We can do some simple things with it:"
   ]
  },
  {
   "cell_type": "code",
   "execution_count": 17,
   "metadata": {},
   "outputs": [
    {
     "name": "stdout",
     "output_type": "stream",
     "text": [
      "Average item-level delta recall: 4.24%\n",
      "Biggest item-level delta recall: 87.69%\n",
      "Biggest adverse item-level delta recall: -60.29%\n"
     ]
    }
   ],
   "source": [
    "print(\"Average item-level delta recall: {:.2f}%\".format(np.nanmean(np.array(normalized_delta_recall))))\n",
    "print(\"Biggest item-level delta recall: {:.2f}%\".format(max(normalized_delta_recall)))\n",
    "print(\"Biggest adverse item-level delta recall: {:.2f}%\".format(min(normalized_delta_recall)))"
   ]
  },
  {
   "cell_type": "markdown",
   "metadata": {},
   "source": [
    "This works pretty well for doing some basic manipulations and even plotting, but what if we want to ask some slightly less trivial questions? For example, what is the mean, min, max delta recall split by FR5/catFR5? What if we want to split based on stimulation region or some other value? This is no longer straightforward to do with the list-based method. Instead, let's get these summary objects into a pandas dataframe and really let the analyses run wild."
   ]
  },
  {
   "cell_type": "code",
   "execution_count": 18,
   "metadata": {},
   "outputs": [],
   "source": [
    "import pandas as pd\n",
    "\n",
    "session_data = {\n",
    "    'subject': [],\n",
    "    'experiment': [],\n",
    "    'session': [],\n",
    "    'session_summary': [],\n",
    "    'montage': [],\n",
    "    'anode': [],\n",
    "    'cathode': [],\n",
    "    'electrode_type': [],\n",
    "    'location': [],\n",
    "    'amplitude': [],\n",
    "    'pulse_freq': [],\n",
    "    'stim_duration': [],\n",
    "    'date': []\n",
    "}\n",
    "\n",
    "for session_summary_loc in fr5_session_summary_locations:\n",
    "    metadata = extract_report_info_from_path(session_summary_loc)\n",
    "    session_summary = FRStimSessionSummary.from_hdf(session_summary_loc)\n",
    "    session_df = pd.DataFrame.from_records(session_summary._events)\n",
    "    stim_params = FRStimSessionSummary.stim_parameters([session_summary])[0]\n",
    "    \n",
    "    session_data['subject'].append(metadata['subject'])\n",
    "    session_data['experiment'].append(metadata['experiment'])\n",
    "    session_data['session'].append(metadata['sessions'][0])\n",
    "    session_data['session_summary'].append(session_summary)\n",
    "    session_data['montage'].append(metadata['montage'])\n",
    "    session_data['anode'].append(stim_params['stimAnodeTag'])\n",
    "    session_data['cathode'].append(stim_params['stimCathodeTag'])\n",
    "    session_data['electrode_type'].append('')\n",
    "    session_data['location'].append(stim_params['location'])\n",
    "    session_data['amplitude'].append(float(stim_params['amplitude']))\n",
    "    session_data['pulse_freq'].append(float(stim_params['pulse_freq']))\n",
    "    session_data['stim_duration'].append(float(stim_params['stim_duration']))\n",
    "    session_data['date'].append(session_summary.session_datetime)"
   ]
  },
  {
   "cell_type": "code",
   "execution_count": 19,
   "metadata": {},
   "outputs": [
    {
     "data": {
      "text/html": [
       "<div>\n",
       "<style>\n",
       "    .dataframe thead tr:only-child th {\n",
       "        text-align: right;\n",
       "    }\n",
       "\n",
       "    .dataframe thead th {\n",
       "        text-align: left;\n",
       "    }\n",
       "\n",
       "    .dataframe tbody tr th {\n",
       "        vertical-align: top;\n",
       "    }\n",
       "</style>\n",
       "<table border=\"1\" class=\"dataframe\">\n",
       "  <thead>\n",
       "    <tr style=\"text-align: right;\">\n",
       "      <th></th>\n",
       "      <th>subject</th>\n",
       "      <th>experiment</th>\n",
       "      <th>montage</th>\n",
       "      <th>session</th>\n",
       "      <th>date</th>\n",
       "      <th>session_summary</th>\n",
       "      <th>electrode_type</th>\n",
       "      <th>location</th>\n",
       "      <th>pulse_freq</th>\n",
       "      <th>stim_duration</th>\n",
       "    </tr>\n",
       "  </thead>\n",
       "  <tbody>\n",
       "    <tr>\n",
       "      <th>0</th>\n",
       "      <td>R1275D</td>\n",
       "      <td>FR5</td>\n",
       "      <td>0</td>\n",
       "      <td>1</td>\n",
       "      <td>2017-06-10 17:15:09.603000+00:00</td>\n",
       "      <td>&lt;FRStimSessionSummary(_events=[ ( 1, 1, 'R1275...</td>\n",
       "      <td></td>\n",
       "      <td>Right Cerebral White Matter</td>\n",
       "      <td>200.0</td>\n",
       "      <td>500.0</td>\n",
       "    </tr>\n",
       "    <tr>\n",
       "      <th>1</th>\n",
       "      <td>R1275D</td>\n",
       "      <td>FR5</td>\n",
       "      <td>0</td>\n",
       "      <td>2</td>\n",
       "      <td>2017-06-11 17:29:07.115000+00:00</td>\n",
       "      <td>&lt;FRStimSessionSummary(_events=[ ( 1, 2, 'R1275...</td>\n",
       "      <td></td>\n",
       "      <td>Right Cerebral White Matter</td>\n",
       "      <td>200.0</td>\n",
       "      <td>500.0</td>\n",
       "    </tr>\n",
       "    <tr>\n",
       "      <th>2</th>\n",
       "      <td>R1292E</td>\n",
       "      <td>FR5</td>\n",
       "      <td>0</td>\n",
       "      <td>0</td>\n",
       "      <td>2017-07-03 16:12:42.221000+00:00</td>\n",
       "      <td>&lt;FRStimSessionSummary(_events=[ ( 1, 0, 'R1292...</td>\n",
       "      <td></td>\n",
       "      <td>Left Middle Temporal Gyrus</td>\n",
       "      <td>100.0</td>\n",
       "      <td>500.0</td>\n",
       "    </tr>\n",
       "    <tr>\n",
       "      <th>3</th>\n",
       "      <td>R1304N</td>\n",
       "      <td>FR5</td>\n",
       "      <td>0</td>\n",
       "      <td>0</td>\n",
       "      <td>2017-05-29 15:35:00.879000+00:00</td>\n",
       "      <td>&lt;FRStimSessionSummary(_events=[ ( 1, 0, 'R1304...</td>\n",
       "      <td></td>\n",
       "      <td>Right Cerebral White Matter</td>\n",
       "      <td>200.0</td>\n",
       "      <td>500.0</td>\n",
       "    </tr>\n",
       "    <tr>\n",
       "      <th>4</th>\n",
       "      <td>R1308T</td>\n",
       "      <td>FR5</td>\n",
       "      <td>0</td>\n",
       "      <td>0</td>\n",
       "      <td>2017-06-19 20:33:04.856000+00:00</td>\n",
       "      <td>&lt;FRStimSessionSummary(_events=[ ( 1, 0, 'R1308...</td>\n",
       "      <td></td>\n",
       "      <td>Left Middle Temporal Gyrus</td>\n",
       "      <td>200.0</td>\n",
       "      <td>500.0</td>\n",
       "    </tr>\n",
       "  </tbody>\n",
       "</table>\n",
       "</div>"
      ],
      "text/plain": [
       "  subject experiment  montage  session                             date  \\\n",
       "0  R1275D        FR5        0        1 2017-06-10 17:15:09.603000+00:00   \n",
       "1  R1275D        FR5        0        2 2017-06-11 17:29:07.115000+00:00   \n",
       "2  R1292E        FR5        0        0 2017-07-03 16:12:42.221000+00:00   \n",
       "3  R1304N        FR5        0        0 2017-05-29 15:35:00.879000+00:00   \n",
       "4  R1308T        FR5        0        0 2017-06-19 20:33:04.856000+00:00   \n",
       "\n",
       "                                     session_summary electrode_type  \\\n",
       "0  <FRStimSessionSummary(_events=[ ( 1, 1, 'R1275...                  \n",
       "1  <FRStimSessionSummary(_events=[ ( 1, 2, 'R1275...                  \n",
       "2  <FRStimSessionSummary(_events=[ ( 1, 0, 'R1292...                  \n",
       "3  <FRStimSessionSummary(_events=[ ( 1, 0, 'R1304...                  \n",
       "4  <FRStimSessionSummary(_events=[ ( 1, 0, 'R1308...                  \n",
       "\n",
       "                      location  pulse_freq  stim_duration  \n",
       "0  Right Cerebral White Matter       200.0          500.0  \n",
       "1  Right Cerebral White Matter       200.0          500.0  \n",
       "2   Left Middle Temporal Gyrus       100.0          500.0  \n",
       "3  Right Cerebral White Matter       200.0          500.0  \n",
       "4   Left Middle Temporal Gyrus       200.0          500.0  "
      ]
     },
     "execution_count": 19,
     "metadata": {},
     "output_type": "execute_result"
    }
   ],
   "source": [
    "session_df = pd.DataFrame.from_dict(session_data)\n",
    "session_df = session_df[['subject', 'experiment', 'montage', 'session', \n",
    "                         'date', 'session_summary', 'electrode_type', 'location',\n",
    "                         'pulse_freq', 'stim_duration']]\n",
    "session_df.head()"
   ]
  },
  {
   "cell_type": "markdown",
   "metadata": {},
   "source": [
    "So it was not as easy to generate as the list, but we ended with a nice user-friend data structure that is going to open up a lot of doors for doing our analyses that were previously much more complicated. Let's start by creating a new variable in the dataset to represent the normalized item-level delta recall metric that we calculated before."
   ]
  },
  {
   "cell_type": "code",
   "execution_count": 20,
   "metadata": {},
   "outputs": [
    {
     "data": {
      "text/html": [
       "<div>\n",
       "<style>\n",
       "    .dataframe thead tr:only-child th {\n",
       "        text-align: right;\n",
       "    }\n",
       "\n",
       "    .dataframe thead th {\n",
       "        text-align: left;\n",
       "    }\n",
       "\n",
       "    .dataframe tbody tr th {\n",
       "        vertical-align: top;\n",
       "    }\n",
       "</style>\n",
       "<table border=\"1\" class=\"dataframe\">\n",
       "  <thead>\n",
       "    <tr style=\"text-align: right;\">\n",
       "      <th></th>\n",
       "      <th>subject</th>\n",
       "      <th>experiment</th>\n",
       "      <th>montage</th>\n",
       "      <th>session</th>\n",
       "      <th>date</th>\n",
       "      <th>session_summary</th>\n",
       "      <th>electrode_type</th>\n",
       "      <th>location</th>\n",
       "      <th>pulse_freq</th>\n",
       "      <th>stim_duration</th>\n",
       "      <th>delta_recall</th>\n",
       "    </tr>\n",
       "  </thead>\n",
       "  <tbody>\n",
       "    <tr>\n",
       "      <th>0</th>\n",
       "      <td>R1275D</td>\n",
       "      <td>FR5</td>\n",
       "      <td>0</td>\n",
       "      <td>1</td>\n",
       "      <td>2017-06-10 17:15:09.603000+00:00</td>\n",
       "      <td>&lt;FRStimSessionSummary(_events=[ ( 1, 1, 'R1275...</td>\n",
       "      <td></td>\n",
       "      <td>Right Cerebral White Matter</td>\n",
       "      <td>200.0</td>\n",
       "      <td>500.0</td>\n",
       "      <td>35.411540</td>\n",
       "    </tr>\n",
       "    <tr>\n",
       "      <th>1</th>\n",
       "      <td>R1275D</td>\n",
       "      <td>FR5</td>\n",
       "      <td>0</td>\n",
       "      <td>2</td>\n",
       "      <td>2017-06-11 17:29:07.115000+00:00</td>\n",
       "      <td>&lt;FRStimSessionSummary(_events=[ ( 1, 2, 'R1275...</td>\n",
       "      <td></td>\n",
       "      <td>Right Cerebral White Matter</td>\n",
       "      <td>200.0</td>\n",
       "      <td>500.0</td>\n",
       "      <td>-7.532247</td>\n",
       "    </tr>\n",
       "    <tr>\n",
       "      <th>2</th>\n",
       "      <td>R1292E</td>\n",
       "      <td>FR5</td>\n",
       "      <td>0</td>\n",
       "      <td>0</td>\n",
       "      <td>2017-07-03 16:12:42.221000+00:00</td>\n",
       "      <td>&lt;FRStimSessionSummary(_events=[ ( 1, 0, 'R1292...</td>\n",
       "      <td></td>\n",
       "      <td>Left Middle Temporal Gyrus</td>\n",
       "      <td>100.0</td>\n",
       "      <td>500.0</td>\n",
       "      <td>5.376644</td>\n",
       "    </tr>\n",
       "    <tr>\n",
       "      <th>3</th>\n",
       "      <td>R1304N</td>\n",
       "      <td>FR5</td>\n",
       "      <td>0</td>\n",
       "      <td>0</td>\n",
       "      <td>2017-05-29 15:35:00.879000+00:00</td>\n",
       "      <td>&lt;FRStimSessionSummary(_events=[ ( 1, 0, 'R1304...</td>\n",
       "      <td></td>\n",
       "      <td>Right Cerebral White Matter</td>\n",
       "      <td>200.0</td>\n",
       "      <td>500.0</td>\n",
       "      <td>55.067482</td>\n",
       "    </tr>\n",
       "    <tr>\n",
       "      <th>4</th>\n",
       "      <td>R1308T</td>\n",
       "      <td>FR5</td>\n",
       "      <td>0</td>\n",
       "      <td>0</td>\n",
       "      <td>2017-06-19 20:33:04.856000+00:00</td>\n",
       "      <td>&lt;FRStimSessionSummary(_events=[ ( 1, 0, 'R1308...</td>\n",
       "      <td></td>\n",
       "      <td>Left Middle Temporal Gyrus</td>\n",
       "      <td>200.0</td>\n",
       "      <td>500.0</td>\n",
       "      <td>NaN</td>\n",
       "    </tr>\n",
       "  </tbody>\n",
       "</table>\n",
       "</div>"
      ],
      "text/plain": [
       "  subject experiment  montage  session                             date  \\\n",
       "0  R1275D        FR5        0        1 2017-06-10 17:15:09.603000+00:00   \n",
       "1  R1275D        FR5        0        2 2017-06-11 17:29:07.115000+00:00   \n",
       "2  R1292E        FR5        0        0 2017-07-03 16:12:42.221000+00:00   \n",
       "3  R1304N        FR5        0        0 2017-05-29 15:35:00.879000+00:00   \n",
       "4  R1308T        FR5        0        0 2017-06-19 20:33:04.856000+00:00   \n",
       "\n",
       "                                     session_summary electrode_type  \\\n",
       "0  <FRStimSessionSummary(_events=[ ( 1, 1, 'R1275...                  \n",
       "1  <FRStimSessionSummary(_events=[ ( 1, 2, 'R1275...                  \n",
       "2  <FRStimSessionSummary(_events=[ ( 1, 0, 'R1292...                  \n",
       "3  <FRStimSessionSummary(_events=[ ( 1, 0, 'R1304...                  \n",
       "4  <FRStimSessionSummary(_events=[ ( 1, 0, 'R1308...                  \n",
       "\n",
       "                      location  pulse_freq  stim_duration  delta_recall  \n",
       "0  Right Cerebral White Matter       200.0          500.0     35.411540  \n",
       "1  Right Cerebral White Matter       200.0          500.0     -7.532247  \n",
       "2   Left Middle Temporal Gyrus       100.0          500.0      5.376644  \n",
       "3  Right Cerebral White Matter       200.0          500.0     55.067482  \n",
       "4   Left Middle Temporal Gyrus       200.0          500.0           NaN  "
      ]
     },
     "execution_count": 20,
     "metadata": {},
     "output_type": "execute_result"
    }
   ],
   "source": [
    "session_df['delta_recall'] = session_df['session_summary'].apply(normalized_item_delta_recall)\n",
    "session_df.head()"
   ]
  },
  {
   "cell_type": "markdown",
   "metadata": {},
   "source": [
    "If that doesn't get you excited, then I don't know what will and you may as well stop reading this tutorial. For the sake of completeness, let's replicate what we did before... and more..."
   ]
  },
  {
   "cell_type": "code",
   "execution_count": 21,
   "metadata": {},
   "outputs": [
    {
     "name": "stdout",
     "output_type": "stream",
     "text": [
      "Average item-level delta recall: 4.24%\n",
      "Biggest item-level delta recall: 87.69%\n",
      "Biggest adverse item-level delta recall: -60.29%\n"
     ]
    }
   ],
   "source": [
    "print(\"Average item-level delta recall: {:.2f}%\".format(session_df['delta_recall'].mean()))\n",
    "print(\"Biggest item-level delta recall: {:.2f}%\".format(session_df['delta_recall'].max()))\n",
    "print(\"Biggest adverse item-level delta recall: {:.2f}%\".format(session_df['delta_recall'].min()))"
   ]
  },
  {
   "cell_type": "code",
   "execution_count": 22,
   "metadata": {},
   "outputs": [
    {
     "data": {
      "text/html": [
       "<div>\n",
       "<style>\n",
       "    .dataframe thead tr:only-child th {\n",
       "        text-align: right;\n",
       "    }\n",
       "\n",
       "    .dataframe thead th {\n",
       "        text-align: left;\n",
       "    }\n",
       "\n",
       "    .dataframe tbody tr th {\n",
       "        vertical-align: top;\n",
       "    }\n",
       "</style>\n",
       "<table border=\"1\" class=\"dataframe\">\n",
       "  <thead>\n",
       "    <tr>\n",
       "      <th></th>\n",
       "      <th colspan=\"3\" halign=\"left\">delta_recall</th>\n",
       "    </tr>\n",
       "    <tr>\n",
       "      <th></th>\n",
       "      <th>mean</th>\n",
       "      <th>min</th>\n",
       "      <th>max</th>\n",
       "    </tr>\n",
       "    <tr>\n",
       "      <th>experiment</th>\n",
       "      <th></th>\n",
       "      <th></th>\n",
       "      <th></th>\n",
       "    </tr>\n",
       "  </thead>\n",
       "  <tbody>\n",
       "    <tr>\n",
       "      <th>FR5</th>\n",
       "      <td>3.739698</td>\n",
       "      <td>-60.293627</td>\n",
       "      <td>87.689632</td>\n",
       "    </tr>\n",
       "    <tr>\n",
       "      <th>catFR5</th>\n",
       "      <td>4.622367</td>\n",
       "      <td>-39.462656</td>\n",
       "      <td>61.873683</td>\n",
       "    </tr>\n",
       "  </tbody>\n",
       "</table>\n",
       "</div>"
      ],
      "text/plain": [
       "           delta_recall                      \n",
       "                   mean        min        max\n",
       "experiment                                   \n",
       "FR5            3.739698 -60.293627  87.689632\n",
       "catFR5         4.622367 -39.462656  61.873683"
      ]
     },
     "execution_count": 22,
     "metadata": {},
     "output_type": "execute_result"
    }
   ],
   "source": [
    "session_df.groupby(by='experiment').agg({'delta_recall': ['mean', 'min', 'max']})"
   ]
  },
  {
   "cell_type": "code",
   "execution_count": 23,
   "metadata": {},
   "outputs": [
    {
     "data": {
      "text/html": [
       "<div>\n",
       "<style>\n",
       "    .dataframe thead tr:only-child th {\n",
       "        text-align: right;\n",
       "    }\n",
       "\n",
       "    .dataframe thead th {\n",
       "        text-align: left;\n",
       "    }\n",
       "\n",
       "    .dataframe tbody tr th {\n",
       "        vertical-align: top;\n",
       "    }\n",
       "</style>\n",
       "<table border=\"1\" class=\"dataframe\">\n",
       "  <thead>\n",
       "    <tr>\n",
       "      <th></th>\n",
       "      <th colspan=\"3\" halign=\"left\">delta_recall</th>\n",
       "    </tr>\n",
       "    <tr>\n",
       "      <th></th>\n",
       "      <th>mean</th>\n",
       "      <th>min</th>\n",
       "      <th>max</th>\n",
       "    </tr>\n",
       "    <tr>\n",
       "      <th>location</th>\n",
       "      <th></th>\n",
       "      <th></th>\n",
       "      <th></th>\n",
       "    </tr>\n",
       "  </thead>\n",
       "  <tbody>\n",
       "    <tr>\n",
       "      <th>--</th>\n",
       "      <td>-12.920880</td>\n",
       "      <td>-23.027612</td>\n",
       "      <td>-0.691512</td>\n",
       "    </tr>\n",
       "    <tr>\n",
       "      <th>Left Cerebral White Matter</th>\n",
       "      <td>-28.169914</td>\n",
       "      <td>-28.169914</td>\n",
       "      <td>-28.169914</td>\n",
       "    </tr>\n",
       "    <tr>\n",
       "      <th>Left Middle Temporal Gyrus</th>\n",
       "      <td>10.327724</td>\n",
       "      <td>-36.400404</td>\n",
       "      <td>87.689632</td>\n",
       "    </tr>\n",
       "    <tr>\n",
       "      <th>Left caudalmiddlefrontal</th>\n",
       "      <td>-26.389477</td>\n",
       "      <td>-35.246487</td>\n",
       "      <td>-17.532468</td>\n",
       "    </tr>\n",
       "    <tr>\n",
       "      <th>Left inferiortemporal</th>\n",
       "      <td>29.324192</td>\n",
       "      <td>29.324192</td>\n",
       "      <td>29.324192</td>\n",
       "    </tr>\n",
       "    <tr>\n",
       "      <th>Left middletemporal</th>\n",
       "      <td>6.031860</td>\n",
       "      <td>-39.462656</td>\n",
       "      <td>61.873683</td>\n",
       "    </tr>\n",
       "    <tr>\n",
       "      <th>Left precentral</th>\n",
       "      <td>6.639869</td>\n",
       "      <td>6.639869</td>\n",
       "      <td>6.639869</td>\n",
       "    </tr>\n",
       "    <tr>\n",
       "      <th>Left rostralmiddlefrontal</th>\n",
       "      <td>1.668592</td>\n",
       "      <td>1.668592</td>\n",
       "      <td>1.668592</td>\n",
       "    </tr>\n",
       "    <tr>\n",
       "      <th>Right Cerebral White Matter</th>\n",
       "      <td>5.663287</td>\n",
       "      <td>-60.293627</td>\n",
       "      <td>55.067482</td>\n",
       "    </tr>\n",
       "    <tr>\n",
       "      <th>Right MCg</th>\n",
       "      <td>2.332751</td>\n",
       "      <td>-4.132304</td>\n",
       "      <td>8.797806</td>\n",
       "    </tr>\n",
       "    <tr>\n",
       "      <th>Right Middle Temporal Gyrus</th>\n",
       "      <td>16.338604</td>\n",
       "      <td>-45.993947</td>\n",
       "      <td>78.671155</td>\n",
       "    </tr>\n",
       "    <tr>\n",
       "      <th>Right caudalmiddlefrontal</th>\n",
       "      <td>11.732229</td>\n",
       "      <td>11.732229</td>\n",
       "      <td>11.732229</td>\n",
       "    </tr>\n",
       "    <tr>\n",
       "      <th>Right middletemporal</th>\n",
       "      <td>-3.304355</td>\n",
       "      <td>-28.242959</td>\n",
       "      <td>21.634249</td>\n",
       "    </tr>\n",
       "    <tr>\n",
       "      <th>Right parstriangularis</th>\n",
       "      <td>12.677112</td>\n",
       "      <td>-3.591954</td>\n",
       "      <td>28.946178</td>\n",
       "    </tr>\n",
       "    <tr>\n",
       "      <th>Right rostralmiddlefrontal</th>\n",
       "      <td>13.461996</td>\n",
       "      <td>5.021732</td>\n",
       "      <td>22.924525</td>\n",
       "    </tr>\n",
       "    <tr>\n",
       "      <th>Right superiorfrontal</th>\n",
       "      <td>-4.072398</td>\n",
       "      <td>-4.072398</td>\n",
       "      <td>-4.072398</td>\n",
       "    </tr>\n",
       "    <tr>\n",
       "      <th>Right superiortemporal</th>\n",
       "      <td>-8.582085</td>\n",
       "      <td>-12.624835</td>\n",
       "      <td>-1.666667</td>\n",
       "    </tr>\n",
       "  </tbody>\n",
       "</table>\n",
       "</div>"
      ],
      "text/plain": [
       "                            delta_recall                      \n",
       "                                    mean        min        max\n",
       "location                                                      \n",
       "--                            -12.920880 -23.027612  -0.691512\n",
       "Left Cerebral White Matter    -28.169914 -28.169914 -28.169914\n",
       "Left Middle Temporal Gyrus     10.327724 -36.400404  87.689632\n",
       "Left caudalmiddlefrontal      -26.389477 -35.246487 -17.532468\n",
       "Left inferiortemporal          29.324192  29.324192  29.324192\n",
       "Left middletemporal             6.031860 -39.462656  61.873683\n",
       "Left precentral                 6.639869   6.639869   6.639869\n",
       "Left rostralmiddlefrontal       1.668592   1.668592   1.668592\n",
       "Right Cerebral White Matter     5.663287 -60.293627  55.067482\n",
       "Right MCg                       2.332751  -4.132304   8.797806\n",
       "Right Middle Temporal Gyrus    16.338604 -45.993947  78.671155\n",
       "Right caudalmiddlefrontal      11.732229  11.732229  11.732229\n",
       "Right middletemporal           -3.304355 -28.242959  21.634249\n",
       "Right parstriangularis         12.677112  -3.591954  28.946178\n",
       "Right rostralmiddlefrontal     13.461996   5.021732  22.924525\n",
       "Right superiorfrontal          -4.072398  -4.072398  -4.072398\n",
       "Right superiortemporal         -8.582085 -12.624835  -1.666667"
      ]
     },
     "execution_count": 23,
     "metadata": {},
     "output_type": "execute_result"
    }
   ],
   "source": [
    "session_df.groupby(by='location').agg({'delta_recall': ['mean', 'min', 'max']})"
   ]
  },
  {
   "cell_type": "markdown",
   "metadata": {},
   "source": [
    "We just answered the two questions we posed previously in one line of code of each. Try doing that with a recarray all you doubters out there."
   ]
  },
  {
   "cell_type": "markdown",
   "metadata": {},
   "source": [
    "## Combining Across Summary File Types\n",
    "\n",
    "So far, we have been taking a look at the data contained in each of these summary objects in isolation. However, for many analyses, you may want to combine the information contained in each. For example, the most commone usage pattern is to combine information about the trained classifier, the classifier results from the session, and the session summary data. The three of those together open up a world of possibilities for your analyses. To do this, we are going to generalize the \"Pandas magic\" approach by creating a dataframe containing the summary object of interest and then rely on the merging mechanics available through pandas to get all of this data into a single data structure."
   ]
  },
  {
   "cell_type": "code",
   "execution_count": 24,
   "metadata": {},
   "outputs": [],
   "source": [
    "from ramutils.reports.summary import ClassifierSummary\n",
    "\n",
    "# Repeat the process for getting summary objects into a dataframe that we used for the session summaries\n",
    "classifier_summaries = glob.glob(os.path.join(report_db_location, '*FR5*classifier_session*'))\n",
    "\n",
    "classifier_summary_data = {\n",
    "    'subject': [],\n",
    "    'experiment': [],\n",
    "    'session': [],\n",
    "    'classifier_summary': [],\n",
    "    'montage': [],\n",
    "    'auc': [],\n",
    "    'pvalue': []\n",
    "}\n",
    "\n",
    "for summary_dir in classifier_summaries:\n",
    "    summary = ClassifierSummary.from_hdf(summary_dir)\n",
    "    metadata = extract_report_info_from_path(summary_dir)\n",
    "    classifier_summary_data['subject'].append(metadata['subject'])\n",
    "    classifier_summary_data['experiment'].append(metadata['experiment'])\n",
    "    classifier_summary_data['session'].append(metadata['sessions'][0])\n",
    "    classifier_summary_data['classifier_summary'].append(summary)\n",
    "    classifier_summary_data['montage'].append(metadata['montage'])\n",
    "    classifier_summary_data['auc'].append(summary.auc)\n",
    "    classifier_summary_data['pvalue'].append(summary.pvalue)\n",
    "    \n",
    "classifier_df = pd.DataFrame.from_dict(classifier_summary_data)\n",
    "classifier_df = classifier_df[['subject', 'experiment', 'montage', 'session', \n",
    "                               'classifier_summary', 'pvalue', 'auc']]"
   ]
  },
  {
   "cell_type": "code",
   "execution_count": 25,
   "metadata": {},
   "outputs": [
    {
     "data": {
      "text/html": [
       "<div>\n",
       "<style>\n",
       "    .dataframe thead tr:only-child th {\n",
       "        text-align: right;\n",
       "    }\n",
       "\n",
       "    .dataframe thead th {\n",
       "        text-align: left;\n",
       "    }\n",
       "\n",
       "    .dataframe tbody tr th {\n",
       "        vertical-align: top;\n",
       "    }\n",
       "</style>\n",
       "<table border=\"1\" class=\"dataframe\">\n",
       "  <thead>\n",
       "    <tr style=\"text-align: right;\">\n",
       "      <th></th>\n",
       "      <th>subject</th>\n",
       "      <th>experiment</th>\n",
       "      <th>montage</th>\n",
       "      <th>session</th>\n",
       "      <th>classifier_summary</th>\n",
       "      <th>pvalue</th>\n",
       "      <th>auc</th>\n",
       "    </tr>\n",
       "  </thead>\n",
       "  <tbody>\n",
       "    <tr>\n",
       "      <th>0</th>\n",
       "      <td>R1275D</td>\n",
       "      <td>FR5</td>\n",
       "      <td>0</td>\n",
       "      <td>1</td>\n",
       "      <td>&lt;ClassifierSummary(_predicted_probabilities=[ ...</td>\n",
       "      <td>0.015</td>\n",
       "      <td>0.616795</td>\n",
       "    </tr>\n",
       "    <tr>\n",
       "      <th>1</th>\n",
       "      <td>R1275D</td>\n",
       "      <td>FR5</td>\n",
       "      <td>0</td>\n",
       "      <td>2</td>\n",
       "      <td>&lt;ClassifierSummary(_predicted_probabilities=[ ...</td>\n",
       "      <td>0.410</td>\n",
       "      <td>0.515080</td>\n",
       "    </tr>\n",
       "    <tr>\n",
       "      <th>2</th>\n",
       "      <td>R1292E</td>\n",
       "      <td>FR5</td>\n",
       "      <td>0</td>\n",
       "      <td>0</td>\n",
       "      <td>&lt;ClassifierSummary(_predicted_probabilities=[ ...</td>\n",
       "      <td>0.390</td>\n",
       "      <td>0.515818</td>\n",
       "    </tr>\n",
       "    <tr>\n",
       "      <th>3</th>\n",
       "      <td>R1304N</td>\n",
       "      <td>FR5</td>\n",
       "      <td>0</td>\n",
       "      <td>0</td>\n",
       "      <td>&lt;ClassifierSummary(_predicted_probabilities=[ ...</td>\n",
       "      <td>0.315</td>\n",
       "      <td>0.526984</td>\n",
       "    </tr>\n",
       "    <tr>\n",
       "      <th>4</th>\n",
       "      <td>R1308T</td>\n",
       "      <td>FR5</td>\n",
       "      <td>0</td>\n",
       "      <td>0</td>\n",
       "      <td>&lt;ClassifierSummary(_predicted_probabilities=[ ...</td>\n",
       "      <td>0.000</td>\n",
       "      <td>0.705267</td>\n",
       "    </tr>\n",
       "  </tbody>\n",
       "</table>\n",
       "</div>"
      ],
      "text/plain": [
       "  subject experiment  montage  session  \\\n",
       "0  R1275D        FR5        0        1   \n",
       "1  R1275D        FR5        0        2   \n",
       "2  R1292E        FR5        0        0   \n",
       "3  R1304N        FR5        0        0   \n",
       "4  R1308T        FR5        0        0   \n",
       "\n",
       "                                  classifier_summary  pvalue       auc  \n",
       "0  <ClassifierSummary(_predicted_probabilities=[ ...   0.015  0.616795  \n",
       "1  <ClassifierSummary(_predicted_probabilities=[ ...   0.410  0.515080  \n",
       "2  <ClassifierSummary(_predicted_probabilities=[ ...   0.390  0.515818  \n",
       "3  <ClassifierSummary(_predicted_probabilities=[ ...   0.315  0.526984  \n",
       "4  <ClassifierSummary(_predicted_probabilities=[ ...   0.000  0.705267  "
      ]
     },
     "execution_count": 25,
     "metadata": {},
     "output_type": "execute_result"
    }
   ],
   "source": [
    "classifier_df.head()"
   ]
  },
  {
   "cell_type": "markdown",
   "metadata": {},
   "source": [
    "You will notice that there is information duplicated across the classifier dataframe and the session summary dataframe. This is intentional, as we need it in order to merge the two. Let's do that now."
   ]
  },
  {
   "cell_type": "code",
   "execution_count": 26,
   "metadata": {},
   "outputs": [
    {
     "data": {
      "text/html": [
       "<div>\n",
       "<style>\n",
       "    .dataframe thead tr:only-child th {\n",
       "        text-align: right;\n",
       "    }\n",
       "\n",
       "    .dataframe thead th {\n",
       "        text-align: left;\n",
       "    }\n",
       "\n",
       "    .dataframe tbody tr th {\n",
       "        vertical-align: top;\n",
       "    }\n",
       "</style>\n",
       "<table border=\"1\" class=\"dataframe\">\n",
       "  <thead>\n",
       "    <tr style=\"text-align: right;\">\n",
       "      <th></th>\n",
       "      <th>subject</th>\n",
       "      <th>experiment</th>\n",
       "      <th>montage</th>\n",
       "      <th>session</th>\n",
       "      <th>date</th>\n",
       "      <th>session_summary</th>\n",
       "      <th>electrode_type</th>\n",
       "      <th>location</th>\n",
       "      <th>pulse_freq</th>\n",
       "      <th>stim_duration</th>\n",
       "      <th>delta_recall</th>\n",
       "      <th>classifier_summary</th>\n",
       "      <th>pvalue</th>\n",
       "      <th>auc</th>\n",
       "    </tr>\n",
       "  </thead>\n",
       "  <tbody>\n",
       "    <tr>\n",
       "      <th>0</th>\n",
       "      <td>R1275D</td>\n",
       "      <td>FR5</td>\n",
       "      <td>0</td>\n",
       "      <td>1</td>\n",
       "      <td>2017-06-10 17:15:09.603000+00:00</td>\n",
       "      <td>&lt;FRStimSessionSummary(_events=[ ( 1, 1, 'R1275...</td>\n",
       "      <td></td>\n",
       "      <td>Right Cerebral White Matter</td>\n",
       "      <td>200.0</td>\n",
       "      <td>500.0</td>\n",
       "      <td>35.411540</td>\n",
       "      <td>&lt;ClassifierSummary(_predicted_probabilities=[ ...</td>\n",
       "      <td>0.015</td>\n",
       "      <td>0.616795</td>\n",
       "    </tr>\n",
       "    <tr>\n",
       "      <th>1</th>\n",
       "      <td>R1275D</td>\n",
       "      <td>FR5</td>\n",
       "      <td>0</td>\n",
       "      <td>2</td>\n",
       "      <td>2017-06-11 17:29:07.115000+00:00</td>\n",
       "      <td>&lt;FRStimSessionSummary(_events=[ ( 1, 2, 'R1275...</td>\n",
       "      <td></td>\n",
       "      <td>Right Cerebral White Matter</td>\n",
       "      <td>200.0</td>\n",
       "      <td>500.0</td>\n",
       "      <td>-7.532247</td>\n",
       "      <td>&lt;ClassifierSummary(_predicted_probabilities=[ ...</td>\n",
       "      <td>0.410</td>\n",
       "      <td>0.515080</td>\n",
       "    </tr>\n",
       "    <tr>\n",
       "      <th>2</th>\n",
       "      <td>R1292E</td>\n",
       "      <td>FR5</td>\n",
       "      <td>0</td>\n",
       "      <td>0</td>\n",
       "      <td>2017-07-03 16:12:42.221000+00:00</td>\n",
       "      <td>&lt;FRStimSessionSummary(_events=[ ( 1, 0, 'R1292...</td>\n",
       "      <td></td>\n",
       "      <td>Left Middle Temporal Gyrus</td>\n",
       "      <td>100.0</td>\n",
       "      <td>500.0</td>\n",
       "      <td>5.376644</td>\n",
       "      <td>&lt;ClassifierSummary(_predicted_probabilities=[ ...</td>\n",
       "      <td>0.390</td>\n",
       "      <td>0.515818</td>\n",
       "    </tr>\n",
       "    <tr>\n",
       "      <th>3</th>\n",
       "      <td>R1304N</td>\n",
       "      <td>FR5</td>\n",
       "      <td>0</td>\n",
       "      <td>0</td>\n",
       "      <td>2017-05-29 15:35:00.879000+00:00</td>\n",
       "      <td>&lt;FRStimSessionSummary(_events=[ ( 1, 0, 'R1304...</td>\n",
       "      <td></td>\n",
       "      <td>Right Cerebral White Matter</td>\n",
       "      <td>200.0</td>\n",
       "      <td>500.0</td>\n",
       "      <td>55.067482</td>\n",
       "      <td>&lt;ClassifierSummary(_predicted_probabilities=[ ...</td>\n",
       "      <td>0.315</td>\n",
       "      <td>0.526984</td>\n",
       "    </tr>\n",
       "    <tr>\n",
       "      <th>4</th>\n",
       "      <td>R1308T</td>\n",
       "      <td>FR5</td>\n",
       "      <td>0</td>\n",
       "      <td>0</td>\n",
       "      <td>2017-06-19 20:33:04.856000+00:00</td>\n",
       "      <td>&lt;FRStimSessionSummary(_events=[ ( 1, 0, 'R1308...</td>\n",
       "      <td></td>\n",
       "      <td>Left Middle Temporal Gyrus</td>\n",
       "      <td>200.0</td>\n",
       "      <td>500.0</td>\n",
       "      <td>NaN</td>\n",
       "      <td>&lt;ClassifierSummary(_predicted_probabilities=[ ...</td>\n",
       "      <td>0.000</td>\n",
       "      <td>0.705267</td>\n",
       "    </tr>\n",
       "  </tbody>\n",
       "</table>\n",
       "</div>"
      ],
      "text/plain": [
       "  subject experiment  montage  session                             date  \\\n",
       "0  R1275D        FR5        0        1 2017-06-10 17:15:09.603000+00:00   \n",
       "1  R1275D        FR5        0        2 2017-06-11 17:29:07.115000+00:00   \n",
       "2  R1292E        FR5        0        0 2017-07-03 16:12:42.221000+00:00   \n",
       "3  R1304N        FR5        0        0 2017-05-29 15:35:00.879000+00:00   \n",
       "4  R1308T        FR5        0        0 2017-06-19 20:33:04.856000+00:00   \n",
       "\n",
       "                                     session_summary electrode_type  \\\n",
       "0  <FRStimSessionSummary(_events=[ ( 1, 1, 'R1275...                  \n",
       "1  <FRStimSessionSummary(_events=[ ( 1, 2, 'R1275...                  \n",
       "2  <FRStimSessionSummary(_events=[ ( 1, 0, 'R1292...                  \n",
       "3  <FRStimSessionSummary(_events=[ ( 1, 0, 'R1304...                  \n",
       "4  <FRStimSessionSummary(_events=[ ( 1, 0, 'R1308...                  \n",
       "\n",
       "                      location  pulse_freq  stim_duration  delta_recall  \\\n",
       "0  Right Cerebral White Matter       200.0          500.0     35.411540   \n",
       "1  Right Cerebral White Matter       200.0          500.0     -7.532247   \n",
       "2   Left Middle Temporal Gyrus       100.0          500.0      5.376644   \n",
       "3  Right Cerebral White Matter       200.0          500.0     55.067482   \n",
       "4   Left Middle Temporal Gyrus       200.0          500.0           NaN   \n",
       "\n",
       "                                  classifier_summary  pvalue       auc  \n",
       "0  <ClassifierSummary(_predicted_probabilities=[ ...   0.015  0.616795  \n",
       "1  <ClassifierSummary(_predicted_probabilities=[ ...   0.410  0.515080  \n",
       "2  <ClassifierSummary(_predicted_probabilities=[ ...   0.390  0.515818  \n",
       "3  <ClassifierSummary(_predicted_probabilities=[ ...   0.315  0.526984  \n",
       "4  <ClassifierSummary(_predicted_probabilities=[ ...   0.000  0.705267  "
      ]
     },
     "execution_count": 26,
     "metadata": {},
     "output_type": "execute_result"
    }
   ],
   "source": [
    "combined_df = session_df.merge(classifier_df, how='left')\n",
    "combined_df.head()"
   ]
  },
  {
   "cell_type": "markdown",
   "metadata": {},
   "source": [
    "Since this is a 1:1 merge, our expectation is that the number of rows should not have changed and that we should have a classifier summary corresponding to each session summary. In general, it is a good idea to check these assumptions before proceeding with any anlayses."
   ]
  },
  {
   "cell_type": "code",
   "execution_count": 27,
   "metadata": {},
   "outputs": [],
   "source": [
    "assert len(combined_df) == len(session_df) == len(classifier_df)"
   ]
  },
  {
   "cell_type": "code",
   "execution_count": 28,
   "metadata": {},
   "outputs": [
    {
     "data": {
      "text/html": [
       "<div>\n",
       "<style>\n",
       "    .dataframe thead tr:only-child th {\n",
       "        text-align: right;\n",
       "    }\n",
       "\n",
       "    .dataframe thead th {\n",
       "        text-align: left;\n",
       "    }\n",
       "\n",
       "    .dataframe tbody tr th {\n",
       "        vertical-align: top;\n",
       "    }\n",
       "</style>\n",
       "<table border=\"1\" class=\"dataframe\">\n",
       "  <thead>\n",
       "    <tr style=\"text-align: right;\">\n",
       "      <th></th>\n",
       "      <th>subject</th>\n",
       "      <th>experiment</th>\n",
       "      <th>montage</th>\n",
       "      <th>session</th>\n",
       "      <th>date</th>\n",
       "      <th>session_summary</th>\n",
       "      <th>electrode_type</th>\n",
       "      <th>location</th>\n",
       "      <th>pulse_freq</th>\n",
       "      <th>stim_duration</th>\n",
       "      <th>delta_recall</th>\n",
       "      <th>classifier_summary</th>\n",
       "      <th>pvalue</th>\n",
       "      <th>auc</th>\n",
       "    </tr>\n",
       "  </thead>\n",
       "  <tbody>\n",
       "  </tbody>\n",
       "</table>\n",
       "</div>"
      ],
      "text/plain": [
       "Empty DataFrame\n",
       "Columns: [subject, experiment, montage, session, date, session_summary, electrode_type, location, pulse_freq, stim_duration, delta_recall, classifier_summary, pvalue, auc]\n",
       "Index: []"
      ]
     },
     "execution_count": 28,
     "metadata": {},
     "output_type": "execute_result"
    }
   ],
   "source": [
    "# Check if we are missing any classifier summaries\n",
    "combined_df[combined_df['classifier_summary'].isnull() == True]"
   ]
  },
  {
   "cell_type": "markdown",
   "metadata": {},
   "source": [
    "With the classifier information joined with the session information, we can now ask a wider set of question. For example, how does classifier performance correlated with delta recall?"
   ]
  },
  {
   "cell_type": "code",
   "execution_count": 29,
   "metadata": {},
   "outputs": [
    {
     "name": "stderr",
     "output_type": "stream",
     "text": [
      "/Users/zduey/miniconda3/envs/ramutils_dev/envs/ramutils_test/lib/python3.6/site-packages/matplotlib/axes/_axes.py:6462: UserWarning: The 'normed' kwarg is deprecated, and has been replaced by the 'density' kwarg.\n",
      "  warnings.warn(\"The 'normed' kwarg is deprecated, and has been \"\n"
     ]
    },
    {
     "data": {
      "text/plain": [
       "<seaborn.axisgrid.JointGrid at 0x1cb803f7b8>"
      ]
     },
     "execution_count": 29,
     "metadata": {},
     "output_type": "execute_result"
    },
    {
     "data": {
      "image/png": "[encoded data removed]",
      "text/plain": [
       "<Figure size 432x432 with 3 Axes>"
      ]
     },
     "metadata": {},
     "output_type": "display_data"
    }
   ],
   "source": [
    "sns.jointplot(x='auc',\n",
    "              y='delta_recall',\n",
    "              kind=\"reg\",\n",
    "              data=combined_df)"
   ]
  },
  {
   "cell_type": "code",
   "execution_count": 30,
   "metadata": {},
   "outputs": [],
   "source": [
    "# Trained Classifier Dataset\n",
    "import classiflib\n",
    "\n",
    "retrained_classifiers = glob.glob(os.path.join(report_db_location, '*retrained_classifier*'))\n",
    "training_classifier_summary_data = {\n",
    "    'subject': [],\n",
    "    'montage': [],\n",
    "    'training_auc': [],\n",
    "    'classifier': []\n",
    "}\n",
    "for classifier_loc in retrained_classifiers:\n",
    "    metadata = extract_report_info_from_path(classifier_loc)\n",
    "    subject = metadata['subject']\n",
    "    montage = metadata['montage']\n",
    "    \n",
    "    # Only add the retrained classifier if one has not already been added\n",
    "    # for the given subject\n",
    "    if subject not in training_classifier_summary_data['subject']:\n",
    "        classifier = classiflib.container.ClassifierContainer.load(classifier_loc)\n",
    "        training_classifier_summary_data['training_auc'].append(classifier.classifier_info['auc'])\n",
    "        training_classifier_summary_data['subject'].append(subject)\n",
    "        training_classifier_summary_data['montage'].append(montage)\n",
    "        training_classifier_summary_data['classifier'].append(classifier)\n",
    "\n",
    "trained_classifier_df = pd.DataFrame.from_dict(training_classifier_summary_data)"
   ]
  },
  {
   "cell_type": "code",
   "execution_count": 31,
   "metadata": {},
   "outputs": [],
   "source": [
    "combined_df = combined_df.merge(trained_classifier_df, how='left')"
   ]
  },
  {
   "cell_type": "markdown",
   "metadata": {},
   "source": [
    "Let's again check that the merge has worked as expected"
   ]
  },
  {
   "cell_type": "code",
   "execution_count": 32,
   "metadata": {},
   "outputs": [],
   "source": [
    "assert len(combined_df) == len(session_df)"
   ]
  },
  {
   "cell_type": "code",
   "execution_count": 33,
   "metadata": {},
   "outputs": [
    {
     "data": {
      "text/html": [
       "<div>\n",
       "<style>\n",
       "    .dataframe thead tr:only-child th {\n",
       "        text-align: right;\n",
       "    }\n",
       "\n",
       "    .dataframe thead th {\n",
       "        text-align: left;\n",
       "    }\n",
       "\n",
       "    .dataframe tbody tr th {\n",
       "        vertical-align: top;\n",
       "    }\n",
       "</style>\n",
       "<table border=\"1\" class=\"dataframe\">\n",
       "  <thead>\n",
       "    <tr style=\"text-align: right;\">\n",
       "      <th></th>\n",
       "      <th>subject</th>\n",
       "      <th>experiment</th>\n",
       "      <th>montage</th>\n",
       "      <th>session</th>\n",
       "      <th>date</th>\n",
       "      <th>session_summary</th>\n",
       "      <th>electrode_type</th>\n",
       "      <th>location</th>\n",
       "      <th>pulse_freq</th>\n",
       "      <th>stim_duration</th>\n",
       "      <th>delta_recall</th>\n",
       "      <th>classifier_summary</th>\n",
       "      <th>pvalue</th>\n",
       "      <th>auc</th>\n",
       "      <th>classifier</th>\n",
       "      <th>training_auc</th>\n",
       "    </tr>\n",
       "  </thead>\n",
       "  <tbody>\n",
       "  </tbody>\n",
       "</table>\n",
       "</div>"
      ],
      "text/plain": [
       "Empty DataFrame\n",
       "Columns: [subject, experiment, montage, session, date, session_summary, electrode_type, location, pulse_freq, stim_duration, delta_recall, classifier_summary, pvalue, auc, classifier, training_auc]\n",
       "Index: []"
      ]
     },
     "execution_count": 33,
     "metadata": {},
     "output_type": "execute_result"
    }
   ],
   "source": [
    "combined_df[combined_df['classifier'].isnull() == True]"
   ]
  },
  {
   "cell_type": "code",
   "execution_count": 34,
   "metadata": {},
   "outputs": [
    {
     "data": {
      "text/html": [
       "<div>\n",
       "<style>\n",
       "    .dataframe thead tr:only-child th {\n",
       "        text-align: right;\n",
       "    }\n",
       "\n",
       "    .dataframe thead th {\n",
       "        text-align: left;\n",
       "    }\n",
       "\n",
       "    .dataframe tbody tr th {\n",
       "        vertical-align: top;\n",
       "    }\n",
       "</style>\n",
       "<table border=\"1\" class=\"dataframe\">\n",
       "  <thead>\n",
       "    <tr style=\"text-align: right;\">\n",
       "      <th></th>\n",
       "      <th>subject</th>\n",
       "      <th>experiment</th>\n",
       "      <th>montage</th>\n",
       "      <th>session</th>\n",
       "      <th>date</th>\n",
       "      <th>session_summary</th>\n",
       "      <th>electrode_type</th>\n",
       "      <th>location</th>\n",
       "      <th>pulse_freq</th>\n",
       "      <th>stim_duration</th>\n",
       "      <th>delta_recall</th>\n",
       "      <th>classifier_summary</th>\n",
       "      <th>pvalue</th>\n",
       "      <th>auc</th>\n",
       "      <th>classifier</th>\n",
       "      <th>training_auc</th>\n",
       "    </tr>\n",
       "  </thead>\n",
       "  <tbody>\n",
       "    <tr>\n",
       "      <th>0</th>\n",
       "      <td>R1275D</td>\n",
       "      <td>FR5</td>\n",
       "      <td>0</td>\n",
       "      <td>1</td>\n",
       "      <td>2017-06-10 17:15:09.603000+00:00</td>\n",
       "      <td>&lt;FRStimSessionSummary(_events=[ ( 1, 1, 'R1275...</td>\n",
       "      <td></td>\n",
       "      <td>Right Cerebral White Matter</td>\n",
       "      <td>200.0</td>\n",
       "      <td>500.0</td>\n",
       "      <td>35.411540</td>\n",
       "      <td>&lt;ClassifierSummary(_predicted_probabilities=[ ...</td>\n",
       "      <td>0.015</td>\n",
       "      <td>0.616795</td>\n",
       "      <td>&lt;classiflib.container.ClassifierContainer obje...</td>\n",
       "      <td>0.716635</td>\n",
       "    </tr>\n",
       "    <tr>\n",
       "      <th>1</th>\n",
       "      <td>R1275D</td>\n",
       "      <td>FR5</td>\n",
       "      <td>0</td>\n",
       "      <td>2</td>\n",
       "      <td>2017-06-11 17:29:07.115000+00:00</td>\n",
       "      <td>&lt;FRStimSessionSummary(_events=[ ( 1, 2, 'R1275...</td>\n",
       "      <td></td>\n",
       "      <td>Right Cerebral White Matter</td>\n",
       "      <td>200.0</td>\n",
       "      <td>500.0</td>\n",
       "      <td>-7.532247</td>\n",
       "      <td>&lt;ClassifierSummary(_predicted_probabilities=[ ...</td>\n",
       "      <td>0.410</td>\n",
       "      <td>0.515080</td>\n",
       "      <td>&lt;classiflib.container.ClassifierContainer obje...</td>\n",
       "      <td>0.716635</td>\n",
       "    </tr>\n",
       "    <tr>\n",
       "      <th>2</th>\n",
       "      <td>R1292E</td>\n",
       "      <td>FR5</td>\n",
       "      <td>0</td>\n",
       "      <td>0</td>\n",
       "      <td>2017-07-03 16:12:42.221000+00:00</td>\n",
       "      <td>&lt;FRStimSessionSummary(_events=[ ( 1, 0, 'R1292...</td>\n",
       "      <td></td>\n",
       "      <td>Left Middle Temporal Gyrus</td>\n",
       "      <td>100.0</td>\n",
       "      <td>500.0</td>\n",
       "      <td>5.376644</td>\n",
       "      <td>&lt;ClassifierSummary(_predicted_probabilities=[ ...</td>\n",
       "      <td>0.390</td>\n",
       "      <td>0.515818</td>\n",
       "      <td>&lt;classiflib.container.ClassifierContainer obje...</td>\n",
       "      <td>0.558089</td>\n",
       "    </tr>\n",
       "    <tr>\n",
       "      <th>3</th>\n",
       "      <td>R1304N</td>\n",
       "      <td>FR5</td>\n",
       "      <td>0</td>\n",
       "      <td>0</td>\n",
       "      <td>2017-05-29 15:35:00.879000+00:00</td>\n",
       "      <td>&lt;FRStimSessionSummary(_events=[ ( 1, 0, 'R1304...</td>\n",
       "      <td></td>\n",
       "      <td>Right Cerebral White Matter</td>\n",
       "      <td>200.0</td>\n",
       "      <td>500.0</td>\n",
       "      <td>55.067482</td>\n",
       "      <td>&lt;ClassifierSummary(_predicted_probabilities=[ ...</td>\n",
       "      <td>0.315</td>\n",
       "      <td>0.526984</td>\n",
       "      <td>&lt;classiflib.container.ClassifierContainer obje...</td>\n",
       "      <td>0.503983</td>\n",
       "    </tr>\n",
       "    <tr>\n",
       "      <th>4</th>\n",
       "      <td>R1308T</td>\n",
       "      <td>FR5</td>\n",
       "      <td>0</td>\n",
       "      <td>0</td>\n",
       "      <td>2017-06-19 20:33:04.856000+00:00</td>\n",
       "      <td>&lt;FRStimSessionSummary(_events=[ ( 1, 0, 'R1308...</td>\n",
       "      <td></td>\n",
       "      <td>Left Middle Temporal Gyrus</td>\n",
       "      <td>200.0</td>\n",
       "      <td>500.0</td>\n",
       "      <td>NaN</td>\n",
       "      <td>&lt;ClassifierSummary(_predicted_probabilities=[ ...</td>\n",
       "      <td>0.000</td>\n",
       "      <td>0.705267</td>\n",
       "      <td>&lt;classiflib.container.ClassifierContainer obje...</td>\n",
       "      <td>0.599638</td>\n",
       "    </tr>\n",
       "  </tbody>\n",
       "</table>\n",
       "</div>"
      ],
      "text/plain": [
       "  subject experiment  montage  session                             date  \\\n",
       "0  R1275D        FR5        0        1 2017-06-10 17:15:09.603000+00:00   \n",
       "1  R1275D        FR5        0        2 2017-06-11 17:29:07.115000+00:00   \n",
       "2  R1292E        FR5        0        0 2017-07-03 16:12:42.221000+00:00   \n",
       "3  R1304N        FR5        0        0 2017-05-29 15:35:00.879000+00:00   \n",
       "4  R1308T        FR5        0        0 2017-06-19 20:33:04.856000+00:00   \n",
       "\n",
       "                                     session_summary electrode_type  \\\n",
       "0  <FRStimSessionSummary(_events=[ ( 1, 1, 'R1275...                  \n",
       "1  <FRStimSessionSummary(_events=[ ( 1, 2, 'R1275...                  \n",
       "2  <FRStimSessionSummary(_events=[ ( 1, 0, 'R1292...                  \n",
       "3  <FRStimSessionSummary(_events=[ ( 1, 0, 'R1304...                  \n",
       "4  <FRStimSessionSummary(_events=[ ( 1, 0, 'R1308...                  \n",
       "\n",
       "                      location  pulse_freq  stim_duration  delta_recall  \\\n",
       "0  Right Cerebral White Matter       200.0          500.0     35.411540   \n",
       "1  Right Cerebral White Matter       200.0          500.0     -7.532247   \n",
       "2   Left Middle Temporal Gyrus       100.0          500.0      5.376644   \n",
       "3  Right Cerebral White Matter       200.0          500.0     55.067482   \n",
       "4   Left Middle Temporal Gyrus       200.0          500.0           NaN   \n",
       "\n",
       "                                  classifier_summary  pvalue       auc  \\\n",
       "0  <ClassifierSummary(_predicted_probabilities=[ ...   0.015  0.616795   \n",
       "1  <ClassifierSummary(_predicted_probabilities=[ ...   0.410  0.515080   \n",
       "2  <ClassifierSummary(_predicted_probabilities=[ ...   0.390  0.515818   \n",
       "3  <ClassifierSummary(_predicted_probabilities=[ ...   0.315  0.526984   \n",
       "4  <ClassifierSummary(_predicted_probabilities=[ ...   0.000  0.705267   \n",
       "\n",
       "                                          classifier  training_auc  \n",
       "0  <classiflib.container.ClassifierContainer obje...      0.716635  \n",
       "1  <classiflib.container.ClassifierContainer obje...      0.716635  \n",
       "2  <classiflib.container.ClassifierContainer obje...      0.558089  \n",
       "3  <classiflib.container.ClassifierContainer obje...      0.503983  \n",
       "4  <classiflib.container.ClassifierContainer obje...      0.599638  "
      ]
     },
     "execution_count": 34,
     "metadata": {},
     "output_type": "execute_result"
    }
   ],
   "source": [
    "combined_df.head()"
   ]
  },
  {
   "cell_type": "markdown",
   "metadata": {},
   "source": [
    "At this point, we have a dataset that contains some basic summary information from each stim session, information about how the classifier performed in the out of sample stim session, and information about the trained classifier. These three pieces of information covers a wide swath of potential analysis use cases. "
   ]
  },
  {
   "cell_type": "markdown",
   "metadata": {},
   "source": [
    "## Aggregating to a different level\n",
    "\n",
    "One lingering concern is that we have so far implicitly assumed that our analysis are based on information at the session level. In many case, we may want to aggregate over sessions that a subject completed, aggregate over all sessions in a particular experiment, or some other aggregation. If we start with our standard session-level dataframe created using pandas magic, this becomes rather trivial to do."
   ]
  },
  {
   "cell_type": "code",
   "execution_count": 35,
   "metadata": {},
   "outputs": [
    {
     "data": {
      "text/html": [
       "<div>\n",
       "<style>\n",
       "    .dataframe thead tr:only-child th {\n",
       "        text-align: right;\n",
       "    }\n",
       "\n",
       "    .dataframe thead th {\n",
       "        text-align: left;\n",
       "    }\n",
       "\n",
       "    .dataframe tbody tr th {\n",
       "        vertical-align: top;\n",
       "    }\n",
       "</style>\n",
       "<table border=\"1\" class=\"dataframe\">\n",
       "  <thead>\n",
       "    <tr style=\"text-align: right;\">\n",
       "      <th></th>\n",
       "      <th>subject</th>\n",
       "      <th>experiment</th>\n",
       "      <th>session_summary</th>\n",
       "      <th>session</th>\n",
       "      <th>delta_recall</th>\n",
       "    </tr>\n",
       "  </thead>\n",
       "  <tbody>\n",
       "    <tr>\n",
       "      <th>0</th>\n",
       "      <td>R1275D</td>\n",
       "      <td>FR5</td>\n",
       "      <td>{&lt;FRStimSessionSummary(_events=[ ( 1, 1, 'R127...</td>\n",
       "      <td>2</td>\n",
       "      <td>13.939646</td>\n",
       "    </tr>\n",
       "    <tr>\n",
       "      <th>1</th>\n",
       "      <td>R1292E</td>\n",
       "      <td>FR5</td>\n",
       "      <td>{&lt;FRStimSessionSummary(_events=[ ( 1, 0, 'R129...</td>\n",
       "      <td>1</td>\n",
       "      <td>5.376644</td>\n",
       "    </tr>\n",
       "    <tr>\n",
       "      <th>2</th>\n",
       "      <td>R1304N</td>\n",
       "      <td>FR5</td>\n",
       "      <td>{&lt;FRStimSessionSummary(_events=[ ( 1, 0, 'R130...</td>\n",
       "      <td>1</td>\n",
       "      <td>55.067482</td>\n",
       "    </tr>\n",
       "    <tr>\n",
       "      <th>3</th>\n",
       "      <td>R1308T</td>\n",
       "      <td>FR5</td>\n",
       "      <td>{&lt;FRStimSessionSummary(_events=[ ( 1, 2, 'R130...</td>\n",
       "      <td>3</td>\n",
       "      <td>10.134115</td>\n",
       "    </tr>\n",
       "    <tr>\n",
       "      <th>4</th>\n",
       "      <td>R1315T</td>\n",
       "      <td>FR5</td>\n",
       "      <td>{&lt;FRStimSessionSummary(_events=[ ( 1, 0, 'R131...</td>\n",
       "      <td>1</td>\n",
       "      <td>-4.448695</td>\n",
       "    </tr>\n",
       "  </tbody>\n",
       "</table>\n",
       "</div>"
      ],
      "text/plain": [
       "  subject experiment                                    session_summary  \\\n",
       "0  R1275D        FR5  {<FRStimSessionSummary(_events=[ ( 1, 1, 'R127...   \n",
       "1  R1292E        FR5  {<FRStimSessionSummary(_events=[ ( 1, 0, 'R129...   \n",
       "2  R1304N        FR5  {<FRStimSessionSummary(_events=[ ( 1, 0, 'R130...   \n",
       "3  R1308T        FR5  {<FRStimSessionSummary(_events=[ ( 1, 2, 'R130...   \n",
       "4  R1315T        FR5  {<FRStimSessionSummary(_events=[ ( 1, 0, 'R131...   \n",
       "\n",
       "   session  delta_recall  \n",
       "0        2     13.939646  \n",
       "1        1      5.376644  \n",
       "2        1     55.067482  \n",
       "3        3     10.134115  \n",
       "4        1     -4.448695  "
      ]
     },
     "execution_count": 35,
     "metadata": {},
     "output_type": "execute_result"
    }
   ],
   "source": [
    "subject_df = (session_df.groupby(by=['subject', 'experiment'])\n",
    "                        .agg({'session_summary': lambda x: set(np.hstack(x.values)),\n",
    "                              'session': 'count',\n",
    "                              'delta_recall': 'mean'})\n",
    "                        .reset_index())\n",
    "subject_df.head()"
   ]
  },
  {
   "cell_type": "markdown",
   "metadata": {},
   "source": [
    "We now have a basic dataset that is at the subject level where our delta recall measure that we have been interested is now the average across sessions that the subject completed. The other nice thing that we've done is that our session_summary field has not gone away, but rather, it now contains the set of all session summary objects associated with the sessions that the subject completed. This leaves us free to continue writing functions that take a summary object or a list of summary objects and returns some value of interest."
   ]
  }
 ],
 "metadata": {
  "kernelspec": {
   "display_name": "Python 3",
   "language": "python",
   "name": "python3"
  },
  "language_info": {
   "codemirror_mode": {
    "name": "ipython",
    "version": 3.0
   },
   "file_extension": ".py",
   "mimetype": "text/x-python",
   "name": "python",
   "nbconvert_exporter": "python",
   "pygments_lexer": "ipython3",
   "version": "3.6.5"
  }
 },
 "nbformat": 4,
 "nbformat_minor": 0
}
